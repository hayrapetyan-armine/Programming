{
 "cells": [
  {
   "cell_type": "markdown",
   "metadata": {},
   "source": [
    "The Canny edge detection algorithm is composed of 5 steps:\n",
    "\n",
    "* Noise reduction\n",
    "* Gradient calculation\n",
    "* Non-Maximum suppresion\n",
    "* Double threshold\n",
    "* Edge Tracking by Hysteresis"
   ]
  },
  {
   "cell_type": "markdown",
   "metadata": {},
   "source": [
    "## Noise Reduction"
   ]
  },
  {
   "cell_type": "markdown",
   "metadata": {},
   "source": [
    "Since the mathematics involved behind the scene are mainly based on derivatives (step 2: Gradient calculation), edge detection results are highly sensitive to image noise."
   ]
  },
  {
   "cell_type": "markdown",
   "metadata": {},
   "source": [
    "One way to get rid of the noise on the image, is by applying Gaussian blur to smooth it. To do so, image convolution technique is applied with a Gaussian Kernel (3x3, 5x5, 7x7 etc…). The kernel size depends on the expected blurring effect. Basically, the smallest the kernel, the less visible is the blur. In our example, we will use a 5 by 5 Gaussian kernel."
   ]
  },
  {
   "cell_type": "markdown",
   "metadata": {},
   "source": [
    "The equation for a Gaussian filter kernel of size (2k+1)×(2k+1) is given by:"
   ]
  },
  {
   "cell_type": "markdown",
   "metadata": {},
   "source": [
    "<img src = 'gaussian_kernel_equation.png'>"
   ]
  },
  {
   "cell_type": "markdown",
   "metadata": {},
   "source": [
    "## Original Image"
   ]
  },
  {
   "cell_type": "markdown",
   "metadata": {},
   "source": [
    "<img src = 'original_grey_image.jpg'>"
   ]
  },
  {
   "cell_type": "markdown",
   "metadata": {},
   "source": [
    "## Gradient Calculation"
   ]
  },
  {
   "cell_type": "markdown",
   "metadata": {},
   "source": [
    "The Gradient calculation step detects the edge intensity and direction by calculating the gradient of the image using edge detection operators."
   ]
  },
  {
   "cell_type": "markdown",
   "metadata": {},
   "source": [
    "Edges correspond to a change of pixels’ intensity. To detect it, the easiest way is to apply filters that highlight this intensity change in both directions: horizontal (x) and vertical (y)"
   ]
  },
  {
   "cell_type": "markdown",
   "metadata": {},
   "source": [
    "When the image is smoothed, the derivatives Ix and Iy w.r.t. x and y are calculated. It can be implemented by convolving I with Sobel kernels Kx and Ky, respectively:"
   ]
  },
  {
   "cell_type": "markdown",
   "metadata": {},
   "source": [
    "<img src = 'sobel_kernel.png'>"
   ]
  },
  {
   "cell_type": "markdown",
   "metadata": {},
   "source": [
    "Then, the magnitude G and the slope θ of the gradient are calculated as follow:"
   ]
  },
  {
   "cell_type": "markdown",
   "metadata": {},
   "source": [
    "<img src = 'gradient_intensity.png'>"
   ]
  },
  {
   "cell_type": "code",
   "execution_count": 4,
   "metadata": {},
   "outputs": [],
   "source": [
    "from scipy import ndimage\n",
    "from scipy.ndimage.filters import convolve\n",
    "\n",
    "from scipy import misc\n",
    "import numpy as np\n",
    "\n",
    "class cannyEdgeDetector:\n",
    "    def __init__(self, imgs, sigma=1, kernel_size=5, weak_pixel=75, strong_pixel=255, lowthreshold=0.05, highthreshold=0.15):\n",
    "        self.imgs = imgs\n",
    "        self.imgs_final = []\n",
    "        self.img_smoothed = None\n",
    "        self.gradientMat = None\n",
    "        self.thetaMat = None\n",
    "        self.nonMaxImg = None\n",
    "        self.thresholdImg = None\n",
    "        self.weak_pixel = weak_pixel\n",
    "        self.strong_pixel = strong_pixel\n",
    "        self.sigma = sigma\n",
    "        self.kernel_size = kernel_size\n",
    "        self.lowThreshold = lowthreshold\n",
    "        self.highThreshold = highthreshold\n",
    "        return \n",
    "    \n",
    "    def gaussian_kernel(self, size, sigma=1):\n",
    "        size = int(size) // 2\n",
    "        x, y = np.mgrid[-size:size+1, -size:size+1]\n",
    "        normal = 1 / (2.0 * np.pi * sigma**2)\n",
    "        g =  np.exp(-((x**2 + y**2) / (2.0*sigma**2))) * normal\n",
    "        return g\n",
    "    \n",
    "    def sobel_filters(self, img):\n",
    "        Kx = np.array([[-1, 0, 1], [-2, 0, 2], [-1, 0, 1]], np.float32)\n",
    "        Ky = np.array([[1, 2, 1], [0, 0, 0], [-1, -2, -1]], np.float32)\n",
    "\n",
    "        Ix = ndimage.filters.convolve(img, Kx)\n",
    "        Iy = ndimage.filters.convolve(img, Ky)\n",
    "\n",
    "        G = np.hypot(Ix, Iy)\n",
    "        G = G / G.max() * 255\n",
    "        theta = np.arctan2(Iy, Ix)\n",
    "        return (G, theta)\n",
    "    \n",
    "\n",
    "    def non_max_suppression(self, img, D):\n",
    "        M, N = img.shape\n",
    "        Z = np.zeros((M,N), dtype=np.int32)\n",
    "        angle = D * 180. / np.pi\n",
    "        angle[angle < 0] += 180\n",
    "\n",
    "\n",
    "        for i in range(1,M-1):\n",
    "            for j in range(1,N-1):\n",
    "                try:\n",
    "                    q = 255\n",
    "                    r = 255\n",
    "\n",
    "                   #angle 0\n",
    "                    if (0 <= angle[i,j] < 22.5) or (157.5 <= angle[i,j] <= 180):\n",
    "                        q = img[i, j+1]\n",
    "                        r = img[i, j-1]\n",
    "                    #angle 45\n",
    "                    elif (22.5 <= angle[i,j] < 67.5):\n",
    "                        q = img[i+1, j-1]\n",
    "                        r = img[i-1, j+1]\n",
    "                    #angle 90\n",
    "                    elif (67.5 <= angle[i,j] < 112.5):\n",
    "                        q = img[i+1, j]\n",
    "                        r = img[i-1, j]\n",
    "                    #angle 135\n",
    "                    elif (112.5 <= angle[i,j] < 157.5):\n",
    "                        q = img[i-1, j-1]\n",
    "                        r = img[i+1, j+1]\n",
    "\n",
    "                    if (img[i,j] >= q) and (img[i,j] >= r):\n",
    "                        Z[i,j] = img[i,j]\n",
    "                    else:\n",
    "                        Z[i,j] = 0\n",
    "\n",
    "\n",
    "                except IndexError as e:\n",
    "                    pass\n",
    "\n",
    "        return Z\n",
    "\n",
    "    def threshold(self, img):\n",
    "\n",
    "        highThreshold = img.max() * self.highThreshold;\n",
    "        lowThreshold = highThreshold * self.lowThreshold;\n",
    "\n",
    "        M, N = img.shape\n",
    "        res = np.zeros((M,N), dtype=np.int32)\n",
    "\n",
    "        weak = np.int32(self.weak_pixel)\n",
    "        strong = np.int32(self.strong_pixel)\n",
    "\n",
    "        strong_i, strong_j = np.where(img >= highThreshold)\n",
    "        zeros_i, zeros_j = np.where(img < lowThreshold)\n",
    "\n",
    "        weak_i, weak_j = np.where((img <= highThreshold) & (img >= lowThreshold))\n",
    "\n",
    "        res[strong_i, strong_j] = strong\n",
    "        res[weak_i, weak_j] = weak\n",
    "\n",
    "        return (res)\n",
    "\n",
    "    def hysteresis(self, img):\n",
    "\n",
    "        M, N = img.shape\n",
    "        weak = self.weak_pixel\n",
    "        strong = self.strong_pixel\n",
    "\n",
    "        for i in range(1, M-1):\n",
    "            for j in range(1, N-1):\n",
    "                if (img[i,j] == weak):\n",
    "                    try:\n",
    "                        if ((img[i+1, j-1] == strong) or (img[i+1, j] == strong) or (img[i+1, j+1] == strong)\n",
    "                            or (img[i, j-1] == strong) or (img[i, j+1] == strong)\n",
    "                            or (img[i-1, j-1] == strong) or (img[i-1, j] == strong) or (img[i-1, j+1] == strong)):\n",
    "                            img[i, j] = strong\n",
    "                        else:\n",
    "                            img[i, j] = 0\n",
    "                    except IndexError as e:\n",
    "                        pass\n",
    "\n",
    "        return img\n",
    "    \n",
    "    def detect(self):\n",
    "        imgs_final = []\n",
    "        for i, img in enumerate(self.imgs):    \n",
    "            self.img_smoothed = convolve(img, self.gaussian_kernel(self.kernel_size, self.sigma))\n",
    "            self.gradientMat, self.thetaMat = self.sobel_filters(self.img_smoothed)\n",
    "            self.nonMaxImg = self.non_max_suppression(self.gradientMat, self.thetaMat)\n",
    "            self.thresholdImg = self.threshold(self.nonMaxImg)\n",
    "            img_final = self.hysteresis(self.thresholdImg)\n",
    "            self.imgs_final.append(img_final)\n",
    "\n",
    "        return self.imgs_final"
   ]
  },
  {
   "cell_type": "code",
   "execution_count": 16,
   "metadata": {},
   "outputs": [
    {
     "ename": "ModuleNotFoundError",
     "evalue": "No module named 'cv2'",
     "output_type": "error",
     "traceback": [
      "\u001b[0;31m---------------------------------------------------------------------------\u001b[0m",
      "\u001b[0;31mModuleNotFoundError\u001b[0m                       Traceback (most recent call last)",
      "\u001b[0;32m<ipython-input-16-35b2e32fc6b7>\u001b[0m in \u001b[0;36m<module>\u001b[0;34m\u001b[0m\n\u001b[1;32m      1\u001b[0m \u001b[0;32mimport\u001b[0m \u001b[0mnumpy\u001b[0m \u001b[0;32mas\u001b[0m \u001b[0mnp\u001b[0m\u001b[0;34m\u001b[0m\u001b[0;34m\u001b[0m\u001b[0m\n\u001b[1;32m      2\u001b[0m \u001b[0;32mimport\u001b[0m \u001b[0mos\u001b[0m\u001b[0;34m\u001b[0m\u001b[0;34m\u001b[0m\u001b[0m\n\u001b[0;32m----> 3\u001b[0;31m \u001b[0;32mimport\u001b[0m \u001b[0mcv2\u001b[0m\u001b[0;34m\u001b[0m\u001b[0;34m\u001b[0m\u001b[0m\n\u001b[0m\u001b[1;32m      4\u001b[0m \u001b[0;32mimport\u001b[0m \u001b[0mmatplotlib\u001b[0m\u001b[0;34m.\u001b[0m\u001b[0mpyplot\u001b[0m \u001b[0;32mas\u001b[0m \u001b[0mplt\u001b[0m\u001b[0;34m\u001b[0m\u001b[0;34m\u001b[0m\u001b[0m\n\u001b[1;32m      5\u001b[0m \u001b[0;34m\u001b[0m\u001b[0m\n",
      "\u001b[0;31mModuleNotFoundError\u001b[0m: No module named 'cv2'"
     ]
    }
   ],
   "source": [
    "import numpy as np \n",
    "import os \n",
    "import cv2 \n",
    "import matplotlib.pyplot as plt \n",
    "\n",
    "\n",
    "# defining the canny detector function \n",
    "\n",
    "# here weak_th and strong_th are thresholds for \n",
    "# double thresholding step \n",
    "def Canny_detector(img, weak_th = None, strong_th = None): \n",
    "\t\n",
    "\t# conversion of image to grayscale \n",
    "\timg = cv2.cvtColor(img, cv2.COLOR_BGR2GRAY) \n",
    "\t\n",
    "\t# Noise reduction step \n",
    "\timg = cv2.GaussianBlur(img, (5, 5), 1.4) \n",
    "\t\n",
    "\t# Calculating the gradients \n",
    "\tgx = cv2.Sobel(np.float32(img), cv2.CV_64F, 1, 0, 3) \n",
    "\tgy = cv2.Sobel(np.float32(img), cv2.CV_64F, 0, 1, 3) \n",
    "\t\n",
    "\t# Conversion of Cartesian coordinates to polar \n",
    "\tmag, ang = cv2.cartToPolar(gx, gy, angleInDegrees = True) \n",
    "\t\n",
    "\t# setting the minimum and maximum thresholds \n",
    "\t# for double thresholding \n",
    "\tmag_max = np.max(mag) \n",
    "\tif not weak_th:weak_th = mag_max * 0.1\n",
    "\tif not strong_th:strong_th = mag_max * 0.5\n",
    "\t\n",
    "\t# getting the dimensions of the input image \n",
    "\theight, width = img.shape \n",
    "\t\n",
    "\t# Looping through every pixel of the grayscale \n",
    "\t# image \n",
    "\tfor i_x in range(width): \n",
    "\t\tfor i_y in range(height): \n",
    "\t\t\t\n",
    "\t\t\tgrad_ang = ang[i_y, i_x] \n",
    "\t\t\tgrad_ang = abs(grad_ang-180) if abs(grad_ang)>180 else abs(grad_ang) \n",
    "\t\t\t\n",
    "\t\t\t# selecting the neighbours of the target pixel \n",
    "\t\t\t# according to the gradient direction \n",
    "\t\t\t# In the x axis direction \n",
    "\t\t\tif grad_ang<= 22.5: \n",
    "\t\t\t\tneighb_1_x, neighb_1_y = i_x-1, i_y \n",
    "\t\t\t\tneighb_2_x, neighb_2_y = i_x + 1, i_y \n",
    "\t\t\t\n",
    "\t\t\t# top right (diagnol-1) direction \n",
    "\t\t\telif grad_ang>22.5 and grad_ang<=(22.5 + 45): \n",
    "\t\t\t\tneighb_1_x, neighb_1_y = i_x-1, i_y-1\n",
    "\t\t\t\tneighb_2_x, neighb_2_y = i_x + 1, i_y + 1\n",
    "\t\t\t\n",
    "\t\t\t# In y-axis direction \n",
    "\t\t\telif grad_ang>(22.5 + 45) and grad_ang<=(22.5 + 90): \n",
    "\t\t\t\tneighb_1_x, neighb_1_y = i_x, i_y-1\n",
    "\t\t\t\tneighb_2_x, neighb_2_y = i_x, i_y + 1\n",
    "\t\t\t\n",
    "\t\t\t# top left (diagnol-2) direction \n",
    "\t\t\telif grad_ang>(22.5 + 90) and grad_ang<=(22.5 + 135): \n",
    "\t\t\t\tneighb_1_x, neighb_1_y = i_x-1, i_y + 1\n",
    "\t\t\t\tneighb_2_x, neighb_2_y = i_x + 1, i_y-1\n",
    "\t\t\t\n",
    "\t\t\t# Now it restarts the cycle \n",
    "\t\t\telif grad_ang>(22.5 + 135) and grad_ang<=(22.5 + 180): \n",
    "\t\t\t\tneighb_1_x, neighb_1_y = i_x-1, i_y \n",
    "\t\t\t\tneighb_2_x, neighb_2_y = i_x + 1, i_y \n",
    "\t\t\t\n",
    "\t\t\t# Non-maximum suppression step \n",
    "\t\t\tif width>neighb_1_x>= 0 and height>neighb_1_y>= 0: \n",
    "\t\t\t\tif mag[i_y, i_x]<mag[neighb_1_y, neighb_1_x]: \n",
    "\t\t\t\t\tmag[i_y, i_x]= 0\n",
    "\t\t\t\t\tcontinue\n",
    "\n",
    "\t\t\tif width>neighb_2_x>= 0 and height>neighb_2_y>= 0: \n",
    "\t\t\t\tif mag[i_y, i_x]<mag[neighb_2_y, neighb_2_x]: \n",
    "\t\t\t\t\tmag[i_y, i_x]= 0\n",
    "\n",
    "\tweak_ids = np.zeros_like(img) \n",
    "\tstrong_ids = np.zeros_like(img)\t\t\t \n",
    "\tids = np.zeros_like(img) \n",
    "\t\n",
    "\t# double thresholding step \n",
    "\tfor i_x in range(width): \n",
    "\t\tfor i_y in range(height): \n",
    "\t\t\t\n",
    "\t\t\tgrad_mag = mag[i_y, i_x] \n",
    "\t\t\t\n",
    "\t\t\tif grad_mag<weak_th: \n",
    "\t\t\t\tmag[i_y, i_x]= 0\n",
    "\t\t\telif strong_th>grad_mag>= weak_th: \n",
    "\t\t\t\tids[i_y, i_x]= 1\n",
    "\t\t\telse: \n",
    "\t\t\t\tids[i_y, i_x]= 2\n",
    "\t\n",
    "\t\n",
    "\t# finally returning the magnitude of \n",
    "\t# gradients of edges \n",
    "\treturn mag \n",
    "\n",
    "frame = cv2.imread('original_grey_image.jpg') \n",
    "\n",
    "# calling the designed function for \n",
    "# finding edges \n",
    "canny_img = Canny_detector(frame) \n",
    "\n",
    "# Displaying the input and output image \n",
    "plt.figure() \n",
    "f, plots = plt.subplots(2, 1) \n",
    "plots[0].imshow(frame)\n",
    "plots[1].imshow(canny_img)"
   ]
  },
  {
   "cell_type": "code",
   "execution_count": null,
   "metadata": {},
   "outputs": [],
   "source": []
  }
 ],
 "metadata": {
  "kernelspec": {
   "display_name": "Python 3",
   "language": "python",
   "name": "python3"
  },
  "language_info": {
   "codemirror_mode": {
    "name": "ipython",
    "version": 3
   },
   "file_extension": ".py",
   "mimetype": "text/x-python",
   "name": "python",
   "nbconvert_exporter": "python",
   "pygments_lexer": "ipython3",
   "version": "3.6.9"
  }
 },
 "nbformat": 4,
 "nbformat_minor": 4
}
