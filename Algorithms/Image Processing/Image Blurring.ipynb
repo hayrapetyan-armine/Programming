{
 "cells": [
  {
   "cell_type": "markdown",
   "metadata": {},
   "source": [
    "# Gaussian Blur"
   ]
  },
  {
   "cell_type": "markdown",
   "metadata": {},
   "source": [
    "### Gaussian Filter is used in reducing noise in the image and also the details of the image."
   ]
  },
  {
   "cell_type": "markdown",
   "metadata": {},
   "source": [
    "Steps involved in implementing Gaussian Filter from Scratch on an image:"
   ]
  },
  {
   "cell_type": "markdown",
   "metadata": {},
   "source": [
    "1. Defining the convolution function which iterates over the image based on the kernel size(Gaussian filter). In the figure below left image represent the old image with the red box as the kernel calculating the value from all the nine pixels and inserting in the center pixel."
   ]
  },
  {
   "cell_type": "markdown",
   "metadata": {},
   "source": [
    "<img src = 'gaussian_kernel.png'>"
   ]
  },
  {
   "cell_type": "code",
   "execution_count": 10,
   "metadata": {},
   "outputs": [],
   "source": [
    "def convolution(oldimage, kernel):\n",
    "    image_h = oldimage.shape[0]\n",
    "    image_w = oldimage.shape[1]\n",
    "    \n",
    "    \n",
    "    kernel_h = kernel.shape[0]\n",
    "    kernel_w = kernel.shape[1]\n",
    "    \n",
    "    if(len(oldimage.shape) == 3):\n",
    "        image_pad = np.pad(oldimage, pad_width=(\n",
    "        (kernel_h // 2, kernel_h // 2),(kernel_w // 2, kernel_w // 2),(0,0)), mode='constant', \n",
    "            constant_values=0).astype(np.float32)\n",
    "    elif(len(oldimage.shape) == 2):\n",
    "        image_pad = np.pad(oldimage, pad_width=(\n",
    "            (kernel_h // 2, kernel_h // 2),(kernel_w // 2, \n",
    "            kernel_w // 2)), mode='constant', constant_values=0).astype(np.float32)\n",
    "    \n",
    "    \n",
    "    h = kernel_h // 2\n",
    "    w = kernel_w // 2\n",
    "    \n",
    "    image_conv = np.zeros(image_pad.shape)\n",
    "    \n",
    "    for i in range(h, image_pad.shape[0]-h):\n",
    "        for j in range(w, image_pad.shape[1]-w):\n",
    "            #sum = 0\n",
    "            x = image_pad[i-h:i-h+kernel_h, j-w:j-w+kernel_w]\n",
    "            x = x.flatten()*kernel.flatten()\n",
    "            image_conv[i][j] = x.sum()\n",
    "    h_end = -h\n",
    "    w_end = -w\n",
    "    \n",
    "    if(h == 0):\n",
    "        return image_conv[h:,w:w_end]\n",
    "    if(w == 0):\n",
    "        return image_conv[h:h_end,w:]\n",
    "\n",
    "    return image_conv[h:h_end,w:w_end]"
   ]
  },
  {
   "cell_type": "markdown",
   "metadata": {},
   "source": [
    "2. Defining the Gaussian function based on the size of sigma(standard deviation)."
   ]
  },
  {
   "cell_type": "markdown",
   "metadata": {},
   "source": [
    "<img src=\"gaussian_function.png\">"
   ]
  },
  {
   "cell_type": "code",
   "execution_count": 19,
   "metadata": {},
   "outputs": [],
   "source": [
    "def GaussianBlurImage(image, sigma):\n",
    "    image = Image.open(image)\n",
    "    image = np.asarray(image)\n",
    "    filter_size = 2 * int(4 * sigma + 0.5) + 1\n",
    "    gaussian_filter = np.zeros((filter_size, filter_size), np.float32)\n",
    "    m = filter_size//2\n",
    "    n = filter_size//2\n",
    "    \n",
    "    for x in range(-m, m+1):\n",
    "        for y in range(-n, n+1):\n",
    "            x1 = 2*np.pi*(sigma**2)\n",
    "            x2 = np.exp(-(x**2 + y**2)/(2* sigma**2))\n",
    "            gaussian_filter[x+m, y+n] = (1/x1)*x2\n",
    "    \n",
    "    im_filtered = np.zeros_like(image, dtype=np.float32)\n",
    "    for c in range(3):\n",
    "        im_filtered[:, :, c] = convolution(image[:, :, c], gaussian_filter)\n",
    "    return (im_filtered.astype(np.uint8))"
   ]
  },
  {
   "cell_type": "markdown",
   "metadata": {},
   "source": [
    "## Original Image"
   ]
  },
  {
   "cell_type": "markdown",
   "metadata": {},
   "source": [
    "<img src = \"originam_image.jpeg\">"
   ]
  },
  {
   "cell_type": "code",
   "execution_count": 20,
   "metadata": {},
   "outputs": [],
   "source": [
    "from PIL import Image\n",
    "import numpy as np\n",
    "image, sigma = 'originam_image.jpeg', 4\n",
    "img = GaussianBlurImage(image, sigma)\n",
    "img = Image.fromarray(img, 'RGB')\n",
    "img.save('blurred.jpeg')\n",
    "img.show()"
   ]
  },
  {
   "cell_type": "markdown",
   "metadata": {},
   "source": [
    "### Blurred Image"
   ]
  },
  {
   "cell_type": "markdown",
   "metadata": {},
   "source": [
    "<img src='blurred.jpeg'>"
   ]
  }
 ],
 "metadata": {
  "kernelspec": {
   "display_name": "Python 3",
   "language": "python",
   "name": "python3"
  },
  "language_info": {
   "codemirror_mode": {
    "name": "ipython",
    "version": 3
   },
   "file_extension": ".py",
   "mimetype": "text/x-python",
   "name": "python",
   "nbconvert_exporter": "python",
   "pygments_lexer": "ipython3",
   "version": "3.6.9"
  }
 },
 "nbformat": 4,
 "nbformat_minor": 4
}
